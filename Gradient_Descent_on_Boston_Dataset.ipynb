{
 "cells": [
  {
   "cell_type": "code",
   "execution_count": 1,
   "metadata": {},
   "outputs": [],
   "source": [
    "import pandas as pd\n",
    "import numpy as np\n",
    "boston=np.loadtxt(\"/Users/arunav.dey.7/Desktop/Machine Learning Course Data/gradient_descent_train.csv\",delimiter=',')\n",
    "test=np.loadtxt(\"/Users/arunav.dey.7/Desktop/Machine Learning Course Data/gradient_descent_test.csv\",delimiter=',')"
   ]
  },
  {
   "cell_type": "code",
   "execution_count": 2,
   "metadata": {},
   "outputs": [],
   "source": [
    "X=boston[:,:13]\n",
    "Y=boston[:,13]"
   ]
  },
  {
   "cell_type": "code",
   "execution_count": 3,
   "metadata": {},
   "outputs": [],
   "source": [
    "import xgboost as xgb"
   ]
  },
  {
   "cell_type": "code",
   "execution_count": 5,
   "metadata": {},
   "outputs": [
    {
     "name": "stdout",
     "output_type": "stream",
     "text": [
      "[00:17:49] WARNING: /usr/local/miniconda/conda-bld/xgboost_1566327371504/work/src/objective/regression_obj.cu:152: reg:linear is now deprecated in favor of reg:squarederror.\n"
     ]
    },
    {
     "data": {
      "text/plain": [
       "array([15.284439 , 27.613277 , 15.905181 , 21.582811 , 22.162941 ,\n",
       "       12.227646 , 30.46454  , 26.700758 , 19.134727 , 21.23025  ,\n",
       "       24.081127 , 17.263605 , 18.902617 , 19.969648 , 49.5592   ,\n",
       "       19.812428 , 24.002007 , 22.475975 , 18.792307 , 31.54839  ,\n",
       "       20.798233 , 20.815233 , 37.981228 , 30.826944 , 31.936804 ,\n",
       "       16.509388 , 20.907764 , 30.261137 , 20.713945 , 29.545069 ,\n",
       "       17.844917 , 25.430462 , 21.03823  , 21.76753  ,  9.741494 ,\n",
       "       24.734756 , 22.720566 , 20.55893  , 21.39503  ,  7.664347 ,\n",
       "       16.48246  , 22.610504 , 24.935356 , 18.989698 , 22.351309 ,\n",
       "       11.216014 , 40.800842 , 24.581089 , 34.64941  , 14.480527 ,\n",
       "       14.2774725, 46.580734 , 13.669304 , 19.890963 , 15.9899845,\n",
       "       19.779741 , 19.130426 , 21.742794 , 14.427294 , 15.655847 ,\n",
       "       13.047991 , 27.67044  , 22.437016 , 23.80079  , 14.252055 ,\n",
       "       15.196441 , 35.599926 , 14.052759 , 20.654413 , 21.403454 ,\n",
       "       27.169954 , 22.11103  , 15.943489 ,  9.122678 , 42.2791   ,\n",
       "       23.066097 , 24.42383  , 25.151808 , 10.783509 , 32.923973 ,\n",
       "       21.427586 , 21.234238 , 20.21919  , 18.174908 , 17.084187 ,\n",
       "       37.499237 , 24.696873 , 10.550429 , 21.671629 , 16.557505 ,\n",
       "       20.898129 , 20.015556 , 18.5772   , 11.612463 , 20.385056 ,\n",
       "       24.966198 , 48.104774 , 18.764523 , 36.509583 , 23.001095 ,\n",
       "       23.645636 , 22.212414 , 22.53819  , 27.883572 , 13.277473 ,\n",
       "       24.93125  , 20.351498 , 46.286415 , 22.813187 , 13.091015 ,\n",
       "       23.32367  , 15.822572 , 18.293856 , 19.428438 , 42.258797 ,\n",
       "       18.056458 , 19.731243 , 25.138498 , 20.514925 , 17.323895 ,\n",
       "       11.962104 , 32.575726 , 20.495619 , 21.545904 , 21.036526 ,\n",
       "       20.349005 , 15.398244 ], dtype=float32)"
      ]
     },
     "execution_count": 5,
     "metadata": {},
     "output_type": "execute_result"
    }
   ],
   "source": [
    "import xgboost as xgb\n",
    "\n",
    "# Instantiate the XGBRegressor: xg_reg\n",
    "xg_reg = xgb.XGBRegressor(objective=\"reg:linear\", n_estimators=265, seed=123,max_depth=4)\n",
    "\n",
    "# Fit the regressor to the training set\n",
    "xg_reg.fit(X,Y)\n",
    "\n",
    "# Predict the labels of the test set: preds\n",
    "preds = xg_reg.predict(test)\n",
    "np.savetxt(\"Michegin.csv\",preds,fmt='%1.5f')\n",
    "preds"
   ]
  },
  {
   "cell_type": "code",
   "execution_count": null,
   "metadata": {},
   "outputs": [],
   "source": []
  }
 ],
 "metadata": {
  "kernelspec": {
   "display_name": "Python 3",
   "language": "python",
   "name": "python3"
  },
  "language_info": {
   "codemirror_mode": {
    "name": "ipython",
    "version": 3
   },
   "file_extension": ".py",
   "mimetype": "text/x-python",
   "name": "python",
   "nbconvert_exporter": "python",
   "pygments_lexer": "ipython3",
   "version": "3.7.4"
  }
 },
 "nbformat": 4,
 "nbformat_minor": 2
}
